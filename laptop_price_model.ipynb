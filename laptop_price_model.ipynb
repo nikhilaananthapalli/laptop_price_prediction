{
 "cells": [
  {
   "cell_type": "code",
   "execution_count": 1,
   "metadata": {},
   "outputs": [],
   "source": [
    "import pickle"
   ]
  },
  {
   "cell_type": "code",
   "execution_count": 2,
   "metadata": {},
   "outputs": [],
   "source": [
    "filename='laptop_price_model'\n",
    "model=pickle.load(open(filename,'rb'))"
   ]
  },
  {
   "cell_type": "code",
   "execution_count": null,
   "metadata": {},
   "outputs": [],
   "source": [
    "#Company,TypeName,Inches,Ram,Weight,Gpu_new,Cpu_new,os,Memory_new,Resolution_new\n",
    "#'Dell':0,'Lenovo':1,'HP':2\n",
    "#'Notebook':0,'Ultrabook':1,'2 in 1 Convertible':2,'Gaming':3,'Workstation':4,'Netbook':5\n",
    "#'Intel':0,'Nvidia':1,'AMD':2,'ARM':3\n",
    "#'Intel':0,'AMD':1,'Samsung':2\n",
    "#'Windows':0,'Others/No OS/Linux':1\n",
    "#'SSD':0,'HDD':1,'Flash Storage':2,'Hybrid':3\n",
    "#'Full':0,'IPS':1,'1366x768':2,'Touchscreen':3,'1600x900':4,'Quad':5,'Ultra':6,'2560x1440':7,'1920x1080':8"
   ]
  },
  {
   "cell_type": "code",
   "execution_count": 3,
   "metadata": {},
   "outputs": [
    {
     "data": {
      "text/plain": [
       "array([57993.77843135])"
      ]
     },
     "execution_count": 3,
     "metadata": {},
     "output_type": "execute_result"
    }
   ],
   "source": [
    "new=[[0,3,14,12,2.5,1,1,0,2,3]]\n",
    "pred_result=model.predict(new)\n",
    "pred_result"
   ]
  },
  {
   "cell_type": "code",
   "execution_count": null,
   "metadata": {},
   "outputs": [],
   "source": []
  }
 ],
 "metadata": {
  "kernelspec": {
   "display_name": "Python 3",
   "language": "python",
   "name": "python3"
  },
  "language_info": {
   "codemirror_mode": {
    "name": "ipython",
    "version": 3
   },
   "file_extension": ".py",
   "mimetype": "text/x-python",
   "name": "python",
   "nbconvert_exporter": "python",
   "pygments_lexer": "ipython3",
   "version": "3.7.3"
  }
 },
 "nbformat": 4,
 "nbformat_minor": 2
}
